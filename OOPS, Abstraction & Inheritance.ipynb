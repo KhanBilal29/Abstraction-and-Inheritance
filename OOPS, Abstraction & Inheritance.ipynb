{
 "cells": [
  {
   "cell_type": "markdown",
   "id": "0b08130b",
   "metadata": {},
   "source": [
    "# Abstraction"
   ]
  },
  {
   "cell_type": "code",
   "execution_count": null,
   "id": "b36a183c",
   "metadata": {},
   "outputs": [],
   "source": [
    "#abstraction means that if i am not allowing you to access my variable so that you won't be able to manipulate is \n",
    "#called as abstraction\n",
    "\n",
    "#or it means protecting your variables protecting your methods from someone  "
   ]
  },
  {
   "cell_type": "code",
   "execution_count": 21,
   "id": "658b293d",
   "metadata": {},
   "outputs": [],
   "source": [
    "class test:\n",
    "    def __init__(self, a, b, c, d):\n",
    "        self.a = a                           #self.a this means it is a public\n",
    "        self.b = b\n",
    "        self.c = c\n",
    "        self.d = d\n",
    "    def test_custom(self, v):\n",
    "        return v - self.a\n",
    "    def __str__(self):\n",
    "        return \"this is test code for abstraction\""
   ]
  },
  {
   "cell_type": "code",
   "execution_count": 22,
   "id": "e1e9eb8a",
   "metadata": {},
   "outputs": [],
   "source": [
    "o = test(4, 5, 6, 7)     #o is a object of class test "
   ]
  },
  {
   "cell_type": "code",
   "execution_count": 23,
   "id": "2ecf221a",
   "metadata": {},
   "outputs": [
    {
     "data": {
      "text/plain": [
       "5"
      ]
     },
     "execution_count": 23,
     "metadata": {},
     "output_type": "execute_result"
    }
   ],
   "source": [
    "o.test_custom(9)"
   ]
  },
  {
   "cell_type": "code",
   "execution_count": 24,
   "id": "530325d0",
   "metadata": {},
   "outputs": [
    {
     "data": {
      "text/plain": [
       "4"
      ]
     },
     "execution_count": 24,
     "metadata": {},
     "output_type": "execute_result"
    }
   ],
   "source": [
    "o.a"
   ]
  },
  {
   "cell_type": "code",
   "execution_count": 5,
   "id": "729b8b28",
   "metadata": {},
   "outputs": [
    {
     "name": "stdout",
     "output_type": "stream",
     "text": [
      "this is test code for abstraction\n"
     ]
    }
   ],
   "source": [
    "print(o)"
   ]
  },
  {
   "cell_type": "code",
   "execution_count": 6,
   "id": "8044e407",
   "metadata": {},
   "outputs": [],
   "source": [
    "class test:\n",
    "    def __init__(self, a, b, c, d):\n",
    "        self._a = a                        #self._a this means it is a protected\n",
    "        self.b = b\n",
    "        self.c = c\n",
    "        self.d = d\n",
    "    def test_custom(self, v):\n",
    "        return v - self.a                  #here there is no _(underscore) b4 a, hence it is giving error\n",
    "    def __str__(self):\n",
    "        return \"this is test code for abstraction\""
   ]
  },
  {
   "cell_type": "code",
   "execution_count": 7,
   "id": "54b75031",
   "metadata": {},
   "outputs": [],
   "source": [
    "o = test(4, 5, 6, 7)"
   ]
  },
  {
   "cell_type": "code",
   "execution_count": 8,
   "id": "2845af26",
   "metadata": {},
   "outputs": [
    {
     "ename": "AttributeError",
     "evalue": "'test' object has no attribute 'a'",
     "output_type": "error",
     "traceback": [
      "\u001b[0;31m---------------------------------------------------------------------------\u001b[0m",
      "\u001b[0;31mAttributeError\u001b[0m                            Traceback (most recent call last)",
      "Input \u001b[0;32mIn [8]\u001b[0m, in \u001b[0;36m<cell line: 1>\u001b[0;34m()\u001b[0m\n\u001b[0;32m----> 1\u001b[0m \u001b[43mo\u001b[49m\u001b[38;5;241;43m.\u001b[39;49m\u001b[43mtest_custom\u001b[49m\u001b[43m(\u001b[49m\u001b[38;5;241;43m9\u001b[39;49m\u001b[43m)\u001b[49m\n",
      "Input \u001b[0;32mIn [6]\u001b[0m, in \u001b[0;36mtest.test_custom\u001b[0;34m(self, v)\u001b[0m\n\u001b[1;32m      7\u001b[0m \u001b[38;5;28;01mdef\u001b[39;00m \u001b[38;5;21mtest_custom\u001b[39m(\u001b[38;5;28mself\u001b[39m, v):\n\u001b[0;32m----> 8\u001b[0m     \u001b[38;5;28;01mreturn\u001b[39;00m v \u001b[38;5;241m-\u001b[39m \u001b[38;5;28;43mself\u001b[39;49m\u001b[38;5;241;43m.\u001b[39;49m\u001b[43ma\u001b[49m\n",
      "\u001b[0;31mAttributeError\u001b[0m: 'test' object has no attribute 'a'"
     ]
    }
   ],
   "source": [
    "o.test_custom(9)"
   ]
  },
  {
   "cell_type": "code",
   "execution_count": 16,
   "id": "48d85ec7",
   "metadata": {},
   "outputs": [],
   "source": [
    "class test:\n",
    "    def __init__(self, a, b, c, d):\n",
    "        self._a = a                                #self._a this means it is a protected                 \n",
    "        self.b = b\n",
    "        self.c = c\n",
    "        self.d = d\n",
    "    def test_custom(self, v):\n",
    "        return v - self._a\n",
    "    def __str__(self):\n",
    "        return \"this is test code for abstraction\""
   ]
  },
  {
   "cell_type": "code",
   "execution_count": 17,
   "id": "664de967",
   "metadata": {},
   "outputs": [],
   "source": [
    "o = test(4, 5, 6, 7)"
   ]
  },
  {
   "cell_type": "code",
   "execution_count": 18,
   "id": "284e0bf8",
   "metadata": {},
   "outputs": [
    {
     "data": {
      "text/plain": [
       "5"
      ]
     },
     "execution_count": 18,
     "metadata": {},
     "output_type": "execute_result"
    }
   ],
   "source": [
    "o.test_custom(9)"
   ]
  },
  {
   "cell_type": "code",
   "execution_count": 19,
   "id": "d6d3f11b",
   "metadata": {},
   "outputs": [
    {
     "data": {
      "text/plain": [
       "4"
      ]
     },
     "execution_count": 19,
     "metadata": {},
     "output_type": "execute_result"
    }
   ],
   "source": [
    "o._a"
   ]
  },
  {
   "cell_type": "code",
   "execution_count": 26,
   "id": "08a2f69a",
   "metadata": {},
   "outputs": [],
   "source": [
    "class test:\n",
    "    def __init__(self, a, b, c, d):\n",
    "        self.__a = a                                 #self.__a this means it is a private\n",
    "        self.b = b\n",
    "        self.c = c\n",
    "        self.d = d\n",
    "    def test_custom(self, v):\n",
    "        return v - self.__a\n",
    "    def __str__(self):\n",
    "        return \"this is test code for abstraction\""
   ]
  },
  {
   "cell_type": "code",
   "execution_count": 27,
   "id": "4163153d",
   "metadata": {},
   "outputs": [],
   "source": [
    "o = test(4, 5, 6, 7)"
   ]
  },
  {
   "cell_type": "code",
   "execution_count": 28,
   "id": "ad4c6765",
   "metadata": {},
   "outputs": [
    {
     "data": {
      "text/plain": [
       "5"
      ]
     },
     "execution_count": 28,
     "metadata": {},
     "output_type": "execute_result"
    }
   ],
   "source": [
    "o.test_custom(9)"
   ]
  },
  {
   "cell_type": "code",
   "execution_count": 29,
   "id": "a8134e04",
   "metadata": {},
   "outputs": [
    {
     "ename": "AttributeError",
     "evalue": "'test' object has no attribute '__a'",
     "output_type": "error",
     "traceback": [
      "\u001b[0;31m---------------------------------------------------------------------------\u001b[0m",
      "\u001b[0;31mAttributeError\u001b[0m                            Traceback (most recent call last)",
      "Input \u001b[0;32mIn [29]\u001b[0m, in \u001b[0;36m<cell line: 1>\u001b[0;34m()\u001b[0m\n\u001b[0;32m----> 1\u001b[0m \u001b[43mo\u001b[49m\u001b[38;5;241;43m.\u001b[39;49m\u001b[43m__a\u001b[49m\n",
      "\u001b[0;31mAttributeError\u001b[0m: 'test' object has no attribute '__a'"
     ]
    }
   ],
   "source": [
    "o.__a     #we can access this variable(__a) by using o._test__a"
   ]
  },
  {
   "cell_type": "code",
   "execution_count": 30,
   "id": "fab91db5",
   "metadata": {},
   "outputs": [
    {
     "data": {
      "text/plain": [
       "4"
      ]
     },
     "execution_count": 30,
     "metadata": {},
     "output_type": "execute_result"
    }
   ],
   "source": [
    "o._test__a    #in this way we can access private variable i.e. __a"
   ]
  },
  {
   "cell_type": "code",
   "execution_count": null,
   "id": "bc1159e2",
   "metadata": {},
   "outputs": [],
   "source": [
    "#python never applies concept of abstraction strictly on top of variable or method \n",
    "#python has symbolised public, protected and private for ex - .a, _a and __a"
   ]
  },
  {
   "cell_type": "markdown",
   "id": "14a91e2d",
   "metadata": {},
   "source": [
    "# Inheritance"
   ]
  },
  {
   "cell_type": "code",
   "execution_count": null,
   "id": "f21d31ca",
   "metadata": {},
   "outputs": [],
   "source": [
    "#inheritance allows you to inherit a property of a parent class to child class "
   ]
  },
  {
   "cell_type": "code",
   "execution_count": 31,
   "id": "0b8c3142",
   "metadata": {},
   "outputs": [
    {
     "data": {
      "text/plain": [
       "6"
      ]
     },
     "execution_count": 31,
     "metadata": {},
     "output_type": "execute_result"
    }
   ],
   "source": [
    "class test1(test):                       #here i m trying to inherit my parent class into child class\n",
    "    def __init__(self, j, *args):\n",
    "        super(test1,self).__init__(*args)#super is a function and super(test1) is test i.e. parent class of test1\n",
    "        self.j = j                       #here we have created local variable j for this particular class and we are   \n",
    "                                         #trying to initialize the variable\n",
    "            \n",
    "            \n",
    "m = test1(4,5,6,7,8)                     #here m is the object of child class \n",
    "m.b"
   ]
  },
  {
   "cell_type": "code",
   "execution_count": 32,
   "id": "b8aa05f8",
   "metadata": {},
   "outputs": [
    {
     "data": {
      "text/plain": [
       "4"
      ]
     },
     "execution_count": 32,
     "metadata": {},
     "output_type": "execute_result"
    }
   ],
   "source": [
    "m.j         \"\"\"def __init__(self, j, *args): in this line --> by m.j i m trying to access 4 after this we have 5,6,7,8\n",
    "               which will come in *args, so m.b is 6 m.d is 8\"\"\" "
   ]
  },
  {
   "cell_type": "code",
   "execution_count": null,
   "id": "22197efe",
   "metadata": {},
   "outputs": [],
   "source": [
    "#with help of child class object(m) i m able to call my parent class variable and parent class method"
   ]
  },
  {
   "cell_type": "code",
   "execution_count": 33,
   "id": "0c5ba101",
   "metadata": {},
   "outputs": [
    {
     "data": {
      "text/plain": [
       "4"
      ]
     },
     "execution_count": 33,
     "metadata": {},
     "output_type": "execute_result"
    }
   ],
   "source": [
    "m.test_custom(9)             #here test_custom is a method of test class"
   ]
  },
  {
   "cell_type": "code",
   "execution_count": null,
   "id": "84a66e7f",
   "metadata": {},
   "outputs": [],
   "source": [
    "#when we will create an object of any class then it will call __init__\n",
    "\n",
    "\"\"\"when i am trying to access test class, inside the test class there is __init__ i have to invoke that bcoz we know \n",
    "that whenever we try to create an object of a respective class which is test class then it will call __init__means \n",
    "it will initialize all the variable\"\"\"  \n",
    "\n",
    "\n",
    "\"\"\"if i m trying to call parent class(test) through my child class object, and if i have to utilize all the variables \n",
    "of parent class then i have to initialize parent class __init__ , if we will not initialize parent class __init__ we \n",
    "cannot use parent class variables a, b, c, d \"\"\"\n",
    "\n",
    "\n",
    "\"\"\"super(test1,self).__init__(*args) this means test.__init__ , it will initialize the __init __ of parent class\"\"\""
   ]
  },
  {
   "cell_type": "code",
   "execution_count": null,
   "id": "83058cf1",
   "metadata": {},
   "outputs": [],
   "source": [
    "a                             a                              a            a'                          a\n",
    "|                             /\\                              \\           /                           |\n",
    "|                            /  \\                              \\         /                            |\n",
    "|                           /    \\                              \\       /                             b\n",
    "|                          /      \\                              \\     /                              |\n",
    "|                         /        \\                              \\   /                               |\n",
    "b   one to one           b          c                               b    multiple                     c    multilevel"
   ]
  },
  {
   "cell_type": "code",
   "execution_count": 42,
   "id": "3245f95b",
   "metadata": {},
   "outputs": [
    {
     "name": "stdout",
     "output_type": "stream",
     "text": [
      "i m from test class\n",
      "i m from test1 class\n"
     ]
    }
   ],
   "source": [
    "class test:\n",
    "    def a(self):\n",
    "        print(\"i m from test class\")\n",
    "class test1:\n",
    "    def a(self):\n",
    "        print(\"i m from test1 class\")\n",
    "class test2(test,test1):\n",
    "    def a(self):\n",
    "        test.a(self)\n",
    "        test1.a(self)\n",
    "         \n",
    "        \n",
    "t = test2()   \n",
    "t.a()\n",
    "        \n",
    "    "
   ]
  },
  {
   "cell_type": "code",
   "execution_count": null,
   "id": "1aeff2c3",
   "metadata": {},
   "outputs": [],
   "source": [
    "#whenever we are creating a function we have to write self in it, it is mandatory"
   ]
  },
  {
   "cell_type": "code",
   "execution_count": null,
   "id": "1890a14e",
   "metadata": {},
   "outputs": [],
   "source": [
    "\"\"\"when we create variable inside __init__ it simply means that it will be associated with the class directly with \n",
    "the help of self as a pointer\"\"\""
   ]
  },
  {
   "cell_type": "code",
   "execution_count": 43,
   "id": "e7f5c95a",
   "metadata": {},
   "outputs": [
    {
     "name": "stdout",
     "output_type": "stream",
     "text": [
      "ineuron company was eestablished in 2018\n"
     ]
    }
   ],
   "source": [
    "#example of single inheritance\n",
    "class ineuron:\n",
    "    company_website = \"http://ineuron.ai/\"      #company_website is a global variable\n",
    "    name = \"ineuron\"                            #name is a global variable\n",
    "    def contact_details(self):\n",
    "        print(\"contact us at \", self.company_website)\n",
    "        \n",
    "class datascience(ineuron):\n",
    "    def __init__(self):\n",
    "        self.year_of_establishment = 2018\n",
    "    def est_details(self):\n",
    "        print('{0} company was eestablished in {1}'.format(self.name,self.year_of_establishment))\n",
    "        \n",
    "ds = datascience()        \n",
    "ds.est_details()\n",
    "\n",
    "\n",
    "#i m getting name ineuron here in {0} bcoz i have done inheritance and name is a global variable of class ineuron "
   ]
  },
  {
   "cell_type": "code",
   "execution_count": 45,
   "id": "69c58479",
   "metadata": {},
   "outputs": [
    {
     "name": "stdout",
     "output_type": "stream",
     "text": [
      "multi_task\n",
      "Name:ineuron\n"
     ]
    }
   ],
   "source": [
    "#example of multiple inheritance\n",
    "class os:\n",
    "    multi_task = True\n",
    "    os_name = 'Windows_OS'\n",
    "class windows(os, ineuron) :\n",
    "    def __init__(self):\n",
    "        if self.multi_task is True:\n",
    "            print(\"multi_task\")\n",
    "        print('Name:{}'.format(self.name)) \n",
    "        \n",
    "        \n",
    "windows = windows()        "
   ]
  },
  {
   "cell_type": "code",
   "execution_count": 46,
   "id": "43296b24",
   "metadata": {},
   "outputs": [
    {
     "name": "stdout",
     "output_type": "stream",
     "text": [
      "multi_task\n",
      "Name:ineuron\n"
     ]
    }
   ],
   "source": [
    "class os:\n",
    "    multi_task = True\n",
    "    os_name = 'Windows_OS'\n",
    "class windows(ineuron, os) :\n",
    "    def __init__(self):\n",
    "        if self.multi_task is True:\n",
    "            print(\"multi_task\")\n",
    "        print('Name:{}'.format(self.name)) \n",
    "        \n",
    "        \n",
    "windows = windows()        \n",
    "\n",
    "#if variable name is same then it will give priority to the 1st one"
   ]
  },
  {
   "cell_type": "code",
   "execution_count": 49,
   "id": "8ef882cd",
   "metadata": {},
   "outputs": [
    {
     "name": "stdout",
     "output_type": "stream",
     "text": [
      "The company ineuron offers total 9 different types of courses. Most trending courses is data_science\n"
     ]
    }
   ],
   "source": [
    "class iNeuron:\n",
    "    num_of_courses = 9\n",
    "    \n",
    "class Datascience(iNeuron):\n",
    "    course_type = \"data_science\"\n",
    "    \n",
    "class AI(Datascience):\n",
    "    def __init__(self):\n",
    "        self.company = \"ineuron\"\n",
    "        print('The company {0} offers total {1} different types of courses. Most trending courses is {2}'.format(self.company,self.num_of_courses,self.course_type))\n",
    "              \n",
    "AI = AI()              "
   ]
  },
  {
   "cell_type": "code",
   "execution_count": null,
   "id": "c8181360",
   "metadata": {},
   "outputs": [],
   "source": [
    "#in Encapsulation we are trying to hide the implementation"
   ]
  },
  {
   "cell_type": "code",
   "execution_count": 59,
   "id": "5d75eae5",
   "metadata": {},
   "outputs": [],
   "source": [
    "class test:\n",
    "    def __init__(self, a, b, c):\n",
    "        self.a = a\n",
    "        self.b = b\n",
    "        self.c = c    \n",
    "    def __str__(self):\n",
    "        return \"this is a test class\"\n",
    "\n",
    "    \n",
    "class test1:\n",
    "    def __init__(self, a, b, c):\n",
    "        self.a = a\n",
    "        self.b = b\n",
    "        self.c = c\n",
    "    def __str__(self):\n",
    "        return \"this is a test1 class\"\n",
    "    \n",
    "class test2:\n",
    "    def __init__(self, a, b, c):\n",
    "        self.a = a\n",
    "        self.b = b\n",
    "        self.c = c\n",
    "    def __str__(self):\n",
    "        return \"this is test2 class\"\n",
    "    \n",
    "class final:\n",
    "    def __init__(self, test, test1, test2):\n",
    "        self.test = test\n",
    "        self.test1 = test1\n",
    "        self.test2 = test2\n",
    "    def __str__(self):\n",
    "#       return \"this is final class \" + str(self.test) + \" \" + str(self.test1) + \" \" + str(self.test2)\n",
    "        return str(self.test) + \" \" + str(self.test1) + \" \" + str(self.test2) "
   ]
  },
  {
   "cell_type": "code",
   "execution_count": 60,
   "id": "d3415448",
   "metadata": {},
   "outputs": [],
   "source": [
    "t = test(1,2,3)\n",
    "t1 = test1(4,5,6)\n",
    "t2 = test2(7,8,9)\n",
    "f = final(t,t1,t2)"
   ]
  },
  {
   "cell_type": "code",
   "execution_count": 61,
   "id": "aee7ef66",
   "metadata": {},
   "outputs": [
    {
     "name": "stdout",
     "output_type": "stream",
     "text": [
      "this is a test class this is a test1 class this is test2 class\n"
     ]
    }
   ],
   "source": [
    "print(f)"
   ]
  },
  {
   "cell_type": "code",
   "execution_count": 65,
   "id": "62f82cc0",
   "metadata": {},
   "outputs": [],
   "source": [
    "class test:\n",
    "    def __init__(self, a, b, c):\n",
    "        self.a = a\n",
    "        self.b = b\n",
    "        self.c = c    \n",
    "    def __str__(self):\n",
    "        return \"this is a test class\"\n",
    "\n",
    "    \n",
    "class test1:\n",
    "    def __init__(self, a, b, c):\n",
    "        self.a = a\n",
    "        self.b = b\n",
    "        self.c = c\n",
    "    def __str__(self):\n",
    "        return \"this is a test1 class\"\n",
    "    \n",
    "class test2:\n",
    "    def __init__(self, a, b, c):\n",
    "        self.a = a\n",
    "        self.b = b\n",
    "        self.c = c\n",
    "    def __str__(self):\n",
    "        return \"this is test2 class\"\n",
    "    \n",
    "class final:\n",
    "    def __init__(self, x, y, z):\n",
    "        self.x = x\n",
    "        self.y = y\n",
    "        self.z = z\n",
    "    def __str__(self):\n",
    "#       return \"this is final class \" + str(self.x) + \" \" + str(self.y) + \" \" + str(self.z)\n",
    "        return str(self.x) + \" \" + str(self.y) + \" \" + str(self.z) "
   ]
  },
  {
   "cell_type": "code",
   "execution_count": 66,
   "id": "aec31994",
   "metadata": {},
   "outputs": [],
   "source": [
    "t = test(1,2,3)\n",
    "t1 = test1(4,5,6)\n",
    "t2 = test2(7,8,9)\n",
    "f = final(t,t1,t2)"
   ]
  },
  {
   "cell_type": "code",
   "execution_count": 67,
   "id": "185a5ba6",
   "metadata": {},
   "outputs": [
    {
     "name": "stdout",
     "output_type": "stream",
     "text": [
      "this is a test class this is a test1 class this is test2 class\n"
     ]
    }
   ],
   "source": [
    "print(f)"
   ]
  },
  {
   "cell_type": "code",
   "execution_count": null,
   "id": "73f8eeaa",
   "metadata": {},
   "outputs": [],
   "source": [
    "\"\"\"i m not calling a variable or a function directly means i m trying to hide the implementation of original one \n",
    "means i m trying to encapsulate it\"\"\"\n",
    "\n",
    "\"\"\"i don't want to inherit parent class into child class and i want to hide the implementation so i will not call it \n",
    "directly i will call it indirectly through the objects and this concept is called as encapsulation\"\"\"\n",
    "\n",
    "\n",
    "\"\"\"encapsulation contains 2 things those are-\n",
    "1) composition\n",
    "2) dynamic extension "
   ]
  }
 ],
 "metadata": {
  "kernelspec": {
   "display_name": "Python 3 (ipykernel)",
   "language": "python",
   "name": "python3"
  },
  "language_info": {
   "codemirror_mode": {
    "name": "ipython",
    "version": 3
   },
   "file_extension": ".py",
   "mimetype": "text/x-python",
   "name": "python",
   "nbconvert_exporter": "python",
   "pygments_lexer": "ipython3",
   "version": "3.9.12"
  }
 },
 "nbformat": 4,
 "nbformat_minor": 5
}
